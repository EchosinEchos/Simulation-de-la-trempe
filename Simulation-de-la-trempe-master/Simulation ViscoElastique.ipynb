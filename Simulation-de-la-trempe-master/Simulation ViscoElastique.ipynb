{
 "metadata": {
  "language_info": {
   "codemirror_mode": {
    "name": "ipython",
    "version": 3
   },
   "file_extension": ".py",
   "mimetype": "text/x-python",
   "name": "python",
   "nbconvert_exporter": "python",
   "pygments_lexer": "ipython3",
   "version": "3.8.5-final"
  },
  "orig_nbformat": 2,
  "kernelspec": {
   "name": "python3",
   "display_name": "Python 3",
   "language": "python"
  }
 },
 "nbformat": 4,
 "nbformat_minor": 2,
 "cells": [
  {
   "source": [
    "# Partie Thermique\n",
    "\n",
    "---"
   ],
   "cell_type": "markdown",
   "metadata": {}
  },
  {
   "cell_type": "code",
   "execution_count": 1,
   "metadata": {},
   "outputs": [],
   "source": [
    "from numpy import linspace, zeros\n",
    "from numpy import linalg\n",
    "from numpy import ndarray\n",
    "import plotly.express as px\n",
    "from math import nan, isnan"
   ]
  },
  {
   "cell_type": "code",
   "execution_count": 2,
   "metadata": {},
   "outputs": [],
   "source": [
    "#Initialisation des constante\n",
    "\n",
    "lbda = 0.96\n",
    "rho = 2550\n",
    "Cp = 840\n",
    "\n",
    "N = 30\n",
    "R = 0.01\n",
    "\n",
    "t = 10\n",
    "Nt = 1000\n",
    "\n",
    "Text = linspace(1770,1670, Nt)\n",
    "Tref = 1770"
   ]
  },
  {
   "cell_type": "code",
   "execution_count": 3,
   "metadata": {
    "tags": []
   },
   "outputs": [],
   "source": [
    "#Calcule des constantes\n",
    "W = lbda/(rho * Cp)\n",
    "dr = R / N\n",
    "dt = t / Nt\n",
    "\n",
    "T = []\n",
    "\n",
    "#Initialisation de la temperaure\n",
    "for i in range(Nt):\n",
    "    T.append( ([Tref]*N)  + [Text[i]] )\n",
    "\n",
    "\n",
    "\n",
    "def sq(x):\n",
    "    return x*x"
   ]
  },
  {
   "cell_type": "code",
   "execution_count": 4,
   "metadata": {
    "tags": []
   },
   "outputs": [],
   "source": [
    "\n",
    "# for m in range(1, Nt):\n",
    "\n",
    "#     T[m][0] = W * dt * (T[m-1][1] - T[m-1][0])/sq(dr) + T[m-1][0]\n",
    "\n",
    "#     for i in range(1,N):\n",
    "#         T[m][i] = W * dt * ( (T[m-1][i+1] - 2*T[m-1][i] + T[m-1][i-1])/sq(dr) + (4*(T[m-1][i+1] - T[m-1][i])) / ( sq(dr) * (2*i - 1))) + T[m-1][i]"
   ]
  },
  {
   "cell_type": "code",
   "execution_count": 5,
   "metadata": {},
   "outputs": [],
   "source": [
    "#Tim = [ [ (T[m][i] + T[m][i-1])/2 for i in range(1, N+0)] for m in range(0, Nt)]\n",
    "# totalDT = [ [T[m][i]-Tref for i in range(len(T[0])-1)] for m in range(len(T))]"
   ]
  },
  {
   "cell_type": "code",
   "execution_count": 6,
   "metadata": {},
   "outputs": [],
   "source": [
    "# X = linspace(0, R, N)\n",
    "# Y = T[-1][:-1]\n",
    "\n",
    "# px.line(x = X , y = Y)"
   ]
  },
  {
   "cell_type": "code",
   "execution_count": 7,
   "metadata": {},
   "outputs": [
    {
     "output_type": "display_data",
     "data": {
      "application/vnd.plotly.v1+json": {
       "config": {
        "plotlyServerURL": "https://plot.ly"
       },
       "data": [
        {
         "hovertemplate": "x=%{x}<br>y=%{y}<extra></extra>",
         "legendgroup": "",
         "line": {
          "color": "#636efa",
          "dash": "solid"
         },
         "mode": "lines",
         "name": "",
         "orientation": "v",
         "showlegend": false,
         "type": "scatter",
         "x": [
          0,
          0.0003448275862068966,
          0.0006896551724137932,
          0.0010344827586206897,
          0.0013793103448275863,
          0.001724137931034483,
          0.0020689655172413794,
          0.002413793103448276,
          0.0027586206896551726,
          0.0031034482758620693,
          0.003448275862068966,
          0.0037931034482758625,
          0.004137931034482759,
          0.004482758620689656,
          0.004827586206896552,
          0.005172413793103449,
          0.005517241379310345,
          0.0058620689655172415,
          0.0062068965517241385,
          0.006551724137931035,
          0.006896551724137932,
          0.007241379310344828,
          0.007586206896551725,
          0.007931034482758621,
          0.008275862068965517,
          0.008620689655172414,
          0.008965517241379312,
          0.009310344827586208,
          0.009655172413793104,
          0.01
         ],
         "xaxis": "x",
         "y": [
          0,
          -0.11890606420927469,
          -0.47562425683709875,
          -1.070154577883472,
          -1.902497027348395,
          -2.9726516052318677,
          -4.280618311533888,
          -5.82639714625446,
          -7.60998810939358,
          -9.631391200951251,
          -11.89060642092747,
          -14.387633769322239,
          -17.122473246135552,
          -20.095124851367423,
          -23.30558858501784,
          -26.753864447086805,
          -30.43995243757432,
          -34.36385255648038,
          -38.525564803805004,
          -42.92508917954816,
          -47.56242568370988,
          -52.43757431629014,
          -57.550535077288956,
          -62.90130796670631,
          -68.48989298454221,
          -74.31629013079666,
          -80.38049940546969,
          -86.68252080856125,
          -93.22235434007136,
          -100
         ],
         "yaxis": "y"
        }
       ],
       "layout": {
        "legend": {
         "tracegroupgap": 0
        },
        "template": {
         "data": {
          "bar": [
           {
            "error_x": {
             "color": "#2a3f5f"
            },
            "error_y": {
             "color": "#2a3f5f"
            },
            "marker": {
             "line": {
              "color": "#E5ECF6",
              "width": 0.5
             }
            },
            "type": "bar"
           }
          ],
          "barpolar": [
           {
            "marker": {
             "line": {
              "color": "#E5ECF6",
              "width": 0.5
             }
            },
            "type": "barpolar"
           }
          ],
          "carpet": [
           {
            "aaxis": {
             "endlinecolor": "#2a3f5f",
             "gridcolor": "white",
             "linecolor": "white",
             "minorgridcolor": "white",
             "startlinecolor": "#2a3f5f"
            },
            "baxis": {
             "endlinecolor": "#2a3f5f",
             "gridcolor": "white",
             "linecolor": "white",
             "minorgridcolor": "white",
             "startlinecolor": "#2a3f5f"
            },
            "type": "carpet"
           }
          ],
          "choropleth": [
           {
            "colorbar": {
             "outlinewidth": 0,
             "ticks": ""
            },
            "type": "choropleth"
           }
          ],
          "contour": [
           {
            "colorbar": {
             "outlinewidth": 0,
             "ticks": ""
            },
            "colorscale": [
             [
              0,
              "#0d0887"
             ],
             [
              0.1111111111111111,
              "#46039f"
             ],
             [
              0.2222222222222222,
              "#7201a8"
             ],
             [
              0.3333333333333333,
              "#9c179e"
             ],
             [
              0.4444444444444444,
              "#bd3786"
             ],
             [
              0.5555555555555556,
              "#d8576b"
             ],
             [
              0.6666666666666666,
              "#ed7953"
             ],
             [
              0.7777777777777778,
              "#fb9f3a"
             ],
             [
              0.8888888888888888,
              "#fdca26"
             ],
             [
              1,
              "#f0f921"
             ]
            ],
            "type": "contour"
           }
          ],
          "contourcarpet": [
           {
            "colorbar": {
             "outlinewidth": 0,
             "ticks": ""
            },
            "type": "contourcarpet"
           }
          ],
          "heatmap": [
           {
            "colorbar": {
             "outlinewidth": 0,
             "ticks": ""
            },
            "colorscale": [
             [
              0,
              "#0d0887"
             ],
             [
              0.1111111111111111,
              "#46039f"
             ],
             [
              0.2222222222222222,
              "#7201a8"
             ],
             [
              0.3333333333333333,
              "#9c179e"
             ],
             [
              0.4444444444444444,
              "#bd3786"
             ],
             [
              0.5555555555555556,
              "#d8576b"
             ],
             [
              0.6666666666666666,
              "#ed7953"
             ],
             [
              0.7777777777777778,
              "#fb9f3a"
             ],
             [
              0.8888888888888888,
              "#fdca26"
             ],
             [
              1,
              "#f0f921"
             ]
            ],
            "type": "heatmap"
           }
          ],
          "heatmapgl": [
           {
            "colorbar": {
             "outlinewidth": 0,
             "ticks": ""
            },
            "colorscale": [
             [
              0,
              "#0d0887"
             ],
             [
              0.1111111111111111,
              "#46039f"
             ],
             [
              0.2222222222222222,
              "#7201a8"
             ],
             [
              0.3333333333333333,
              "#9c179e"
             ],
             [
              0.4444444444444444,
              "#bd3786"
             ],
             [
              0.5555555555555556,
              "#d8576b"
             ],
             [
              0.6666666666666666,
              "#ed7953"
             ],
             [
              0.7777777777777778,
              "#fb9f3a"
             ],
             [
              0.8888888888888888,
              "#fdca26"
             ],
             [
              1,
              "#f0f921"
             ]
            ],
            "type": "heatmapgl"
           }
          ],
          "histogram": [
           {
            "marker": {
             "colorbar": {
              "outlinewidth": 0,
              "ticks": ""
             }
            },
            "type": "histogram"
           }
          ],
          "histogram2d": [
           {
            "colorbar": {
             "outlinewidth": 0,
             "ticks": ""
            },
            "colorscale": [
             [
              0,
              "#0d0887"
             ],
             [
              0.1111111111111111,
              "#46039f"
             ],
             [
              0.2222222222222222,
              "#7201a8"
             ],
             [
              0.3333333333333333,
              "#9c179e"
             ],
             [
              0.4444444444444444,
              "#bd3786"
             ],
             [
              0.5555555555555556,
              "#d8576b"
             ],
             [
              0.6666666666666666,
              "#ed7953"
             ],
             [
              0.7777777777777778,
              "#fb9f3a"
             ],
             [
              0.8888888888888888,
              "#fdca26"
             ],
             [
              1,
              "#f0f921"
             ]
            ],
            "type": "histogram2d"
           }
          ],
          "histogram2dcontour": [
           {
            "colorbar": {
             "outlinewidth": 0,
             "ticks": ""
            },
            "colorscale": [
             [
              0,
              "#0d0887"
             ],
             [
              0.1111111111111111,
              "#46039f"
             ],
             [
              0.2222222222222222,
              "#7201a8"
             ],
             [
              0.3333333333333333,
              "#9c179e"
             ],
             [
              0.4444444444444444,
              "#bd3786"
             ],
             [
              0.5555555555555556,
              "#d8576b"
             ],
             [
              0.6666666666666666,
              "#ed7953"
             ],
             [
              0.7777777777777778,
              "#fb9f3a"
             ],
             [
              0.8888888888888888,
              "#fdca26"
             ],
             [
              1,
              "#f0f921"
             ]
            ],
            "type": "histogram2dcontour"
           }
          ],
          "mesh3d": [
           {
            "colorbar": {
             "outlinewidth": 0,
             "ticks": ""
            },
            "type": "mesh3d"
           }
          ],
          "parcoords": [
           {
            "line": {
             "colorbar": {
              "outlinewidth": 0,
              "ticks": ""
             }
            },
            "type": "parcoords"
           }
          ],
          "pie": [
           {
            "automargin": true,
            "type": "pie"
           }
          ],
          "scatter": [
           {
            "marker": {
             "colorbar": {
              "outlinewidth": 0,
              "ticks": ""
             }
            },
            "type": "scatter"
           }
          ],
          "scatter3d": [
           {
            "line": {
             "colorbar": {
              "outlinewidth": 0,
              "ticks": ""
             }
            },
            "marker": {
             "colorbar": {
              "outlinewidth": 0,
              "ticks": ""
             }
            },
            "type": "scatter3d"
           }
          ],
          "scattercarpet": [
           {
            "marker": {
             "colorbar": {
              "outlinewidth": 0,
              "ticks": ""
             }
            },
            "type": "scattercarpet"
           }
          ],
          "scattergeo": [
           {
            "marker": {
             "colorbar": {
              "outlinewidth": 0,
              "ticks": ""
             }
            },
            "type": "scattergeo"
           }
          ],
          "scattergl": [
           {
            "marker": {
             "colorbar": {
              "outlinewidth": 0,
              "ticks": ""
             }
            },
            "type": "scattergl"
           }
          ],
          "scattermapbox": [
           {
            "marker": {
             "colorbar": {
              "outlinewidth": 0,
              "ticks": ""
             }
            },
            "type": "scattermapbox"
           }
          ],
          "scatterpolar": [
           {
            "marker": {
             "colorbar": {
              "outlinewidth": 0,
              "ticks": ""
             }
            },
            "type": "scatterpolar"
           }
          ],
          "scatterpolargl": [
           {
            "marker": {
             "colorbar": {
              "outlinewidth": 0,
              "ticks": ""
             }
            },
            "type": "scatterpolargl"
           }
          ],
          "scatterternary": [
           {
            "marker": {
             "colorbar": {
              "outlinewidth": 0,
              "ticks": ""
             }
            },
            "type": "scatterternary"
           }
          ],
          "surface": [
           {
            "colorbar": {
             "outlinewidth": 0,
             "ticks": ""
            },
            "colorscale": [
             [
              0,
              "#0d0887"
             ],
             [
              0.1111111111111111,
              "#46039f"
             ],
             [
              0.2222222222222222,
              "#7201a8"
             ],
             [
              0.3333333333333333,
              "#9c179e"
             ],
             [
              0.4444444444444444,
              "#bd3786"
             ],
             [
              0.5555555555555556,
              "#d8576b"
             ],
             [
              0.6666666666666666,
              "#ed7953"
             ],
             [
              0.7777777777777778,
              "#fb9f3a"
             ],
             [
              0.8888888888888888,
              "#fdca26"
             ],
             [
              1,
              "#f0f921"
             ]
            ],
            "type": "surface"
           }
          ],
          "table": [
           {
            "cells": {
             "fill": {
              "color": "#EBF0F8"
             },
             "line": {
              "color": "white"
             }
            },
            "header": {
             "fill": {
              "color": "#C8D4E3"
             },
             "line": {
              "color": "white"
             }
            },
            "type": "table"
           }
          ]
         },
         "layout": {
          "annotationdefaults": {
           "arrowcolor": "#2a3f5f",
           "arrowhead": 0,
           "arrowwidth": 1
          },
          "autotypenumbers": "strict",
          "coloraxis": {
           "colorbar": {
            "outlinewidth": 0,
            "ticks": ""
           }
          },
          "colorscale": {
           "diverging": [
            [
             0,
             "#8e0152"
            ],
            [
             0.1,
             "#c51b7d"
            ],
            [
             0.2,
             "#de77ae"
            ],
            [
             0.3,
             "#f1b6da"
            ],
            [
             0.4,
             "#fde0ef"
            ],
            [
             0.5,
             "#f7f7f7"
            ],
            [
             0.6,
             "#e6f5d0"
            ],
            [
             0.7,
             "#b8e186"
            ],
            [
             0.8,
             "#7fbc41"
            ],
            [
             0.9,
             "#4d9221"
            ],
            [
             1,
             "#276419"
            ]
           ],
           "sequential": [
            [
             0,
             "#0d0887"
            ],
            [
             0.1111111111111111,
             "#46039f"
            ],
            [
             0.2222222222222222,
             "#7201a8"
            ],
            [
             0.3333333333333333,
             "#9c179e"
            ],
            [
             0.4444444444444444,
             "#bd3786"
            ],
            [
             0.5555555555555556,
             "#d8576b"
            ],
            [
             0.6666666666666666,
             "#ed7953"
            ],
            [
             0.7777777777777778,
             "#fb9f3a"
            ],
            [
             0.8888888888888888,
             "#fdca26"
            ],
            [
             1,
             "#f0f921"
            ]
           ],
           "sequentialminus": [
            [
             0,
             "#0d0887"
            ],
            [
             0.1111111111111111,
             "#46039f"
            ],
            [
             0.2222222222222222,
             "#7201a8"
            ],
            [
             0.3333333333333333,
             "#9c179e"
            ],
            [
             0.4444444444444444,
             "#bd3786"
            ],
            [
             0.5555555555555556,
             "#d8576b"
            ],
            [
             0.6666666666666666,
             "#ed7953"
            ],
            [
             0.7777777777777778,
             "#fb9f3a"
            ],
            [
             0.8888888888888888,
             "#fdca26"
            ],
            [
             1,
             "#f0f921"
            ]
           ]
          },
          "colorway": [
           "#636efa",
           "#EF553B",
           "#00cc96",
           "#ab63fa",
           "#FFA15A",
           "#19d3f3",
           "#FF6692",
           "#B6E880",
           "#FF97FF",
           "#FECB52"
          ],
          "font": {
           "color": "#2a3f5f"
          },
          "geo": {
           "bgcolor": "white",
           "lakecolor": "white",
           "landcolor": "#E5ECF6",
           "showlakes": true,
           "showland": true,
           "subunitcolor": "white"
          },
          "hoverlabel": {
           "align": "left"
          },
          "hovermode": "closest",
          "mapbox": {
           "style": "light"
          },
          "paper_bgcolor": "white",
          "plot_bgcolor": "#E5ECF6",
          "polar": {
           "angularaxis": {
            "gridcolor": "white",
            "linecolor": "white",
            "ticks": ""
           },
           "bgcolor": "#E5ECF6",
           "radialaxis": {
            "gridcolor": "white",
            "linecolor": "white",
            "ticks": ""
           }
          },
          "scene": {
           "xaxis": {
            "backgroundcolor": "#E5ECF6",
            "gridcolor": "white",
            "gridwidth": 2,
            "linecolor": "white",
            "showbackground": true,
            "ticks": "",
            "zerolinecolor": "white"
           },
           "yaxis": {
            "backgroundcolor": "#E5ECF6",
            "gridcolor": "white",
            "gridwidth": 2,
            "linecolor": "white",
            "showbackground": true,
            "ticks": "",
            "zerolinecolor": "white"
           },
           "zaxis": {
            "backgroundcolor": "#E5ECF6",
            "gridcolor": "white",
            "gridwidth": 2,
            "linecolor": "white",
            "showbackground": true,
            "ticks": "",
            "zerolinecolor": "white"
           }
          },
          "shapedefaults": {
           "line": {
            "color": "#2a3f5f"
           }
          },
          "ternary": {
           "aaxis": {
            "gridcolor": "white",
            "linecolor": "white",
            "ticks": ""
           },
           "baxis": {
            "gridcolor": "white",
            "linecolor": "white",
            "ticks": ""
           },
           "bgcolor": "#E5ECF6",
           "caxis": {
            "gridcolor": "white",
            "linecolor": "white",
            "ticks": ""
           }
          },
          "title": {
           "x": 0.05
          },
          "xaxis": {
           "automargin": true,
           "gridcolor": "white",
           "linecolor": "white",
           "ticks": "",
           "title": {
            "standoff": 15
           },
           "zerolinecolor": "white",
           "zerolinewidth": 2
          },
          "yaxis": {
           "automargin": true,
           "gridcolor": "white",
           "linecolor": "white",
           "ticks": "",
           "title": {
            "standoff": 15
           },
           "zerolinecolor": "white",
           "zerolinewidth": 2
          }
         }
        },
        "title": {
         "text": "Temperature en fonction de R"
        },
        "xaxis": {
         "anchor": "y",
         "domain": [
          0,
          1
         ],
         "title": {
          "text": "x"
         }
        },
        "yaxis": {
         "anchor": "x",
         "domain": [
          0,
          1
         ],
         "title": {
          "text": "y"
         }
        }
       }
      }
     },
     "metadata": {}
    }
   ],
   "source": [
    "totalDT = []\n",
    "X = linspace(0, R, N)\n",
    "for i in range(Nt):\n",
    "    totalDT.append([ -(r*r/(R*R) * 100) for r in X] )\n",
    "#totalDT.append([0 for i in X])\n",
    "DT = totalDT[0]\n",
    "px.line(x = X, y = DT, title=r\"Temperature en fonction de R\")"
   ]
  },
  {
   "source": [
    "# Partie Mécanique\n",
    "\n",
    "---"
   ],
   "cell_type": "markdown",
   "metadata": {}
  },
  {
   "cell_type": "code",
   "execution_count": 8,
   "metadata": {},
   "outputs": [],
   "source": [
    "p = 0\n",
    "\n",
    "E = 71e9\n",
    "nuc = 100\n",
    "kc = E/(3*(1-2*nuc))\n",
    "muc= E/(2*(1+nuc))\n",
    "\n",
    "\n",
    "alpha_c=9e-6"
   ]
  },
  {
   "cell_type": "code",
   "execution_count": 9,
   "metadata": {},
   "outputs": [],
   "source": [
    "def k(i, t) -> float:\n",
    "    return kc\n",
    "\n",
    "def mu(i, t) -> float:\n",
    "    return muc\n",
    "\n",
    "def nu(i, t) ->float:\n",
    "    return nuc\n",
    "\n",
    "\n",
    "def A(i, t) -> float:\n",
    "    A = 4/(9*k(i)) + 1/(12 * mu(i))\n",
    "    return A\n",
    "\n",
    "def B(i, t) -> float:\n",
    "    B = 1/(3*k(i))\n",
    "    return B\n",
    "\n",
    "def alpha(i, t) -> float:\n",
    "    return alpha_c\n"
   ]
  },
  {
   "source": [
    "## Construction de M et de R"
   ],
   "cell_type": "markdown",
   "metadata": {}
  },
  {
   "cell_type": "code",
   "execution_count": 10,
   "metadata": {
    "tags": []
   },
   "outputs": [],
   "source": [
    "sol_t = [[0]*(2*N)]\n",
    "\n",
    "thorr = [ [0] * N for i in range(Nt)]\n",
    "err = [ [0] * N for i in range(Nt)]\n",
    "\n",
    "\n",
    "ajout_tot = [[]]\n",
    "\n",
    "\n",
    "for temps in range (1, Nt):\n",
    "    \n",
    "    tho = nu(N-1, temps)/mu(N-1, temps)\n",
    "\n",
    "    dttho = dt/tho if dt < tho else 0\n",
    "    \n",
    "\n",
    "    DT = totalDT[temps]\n",
    "\n",
    "    M = [[0 for i in range(2*N)] for j in range(2*N)]\n",
    "    Rmat = [0]*(2*N)\n",
    "\n",
    "    M[0][1] = 1\n",
    "\n",
    "\n",
    "    M[2*N-1][2*N-2] = -3*k(N, temps)\n",
    "    M[2*N-1][2*N-1] = 4*mu(4, temps)/((dr*N)**3)\n",
    "    Rmat[2*N-1] = p - 3*k(N, temps)*alpha(N, temps)*DT[N-1] - 2*mu(i, temps)*err[temps-1][N-2] + thorr[temps-1][N-2]*(1-dttho)\n",
    "\n",
    "\n",
    "\n",
    "    for i in range(1, N):\n",
    "        r = dr * i\n",
    "        M[ 2*(i-1) + 1][ 2*(i-1) : 2*(i-1) + 4] = [-r, -1/sq(r), r, 1/sq(r)]\n",
    "\n",
    "    for i in range(1,N):\n",
    "\n",
    "        tho_prec = tho\n",
    "        tho = nu(i, temps)/mu(i, temps)\n",
    "\n",
    "\n",
    "        dttho = dt/tho if dt < tho else 0\n",
    "        dttho_prec = dt/tho_prec if dt < tho_prec else 0\n",
    "\n",
    "\n",
    "        r = dr*i\n",
    "        M[2*(i-1)+2][2*(i-1) : 2*(i-1) + 4] = [-3*k(i, temps), 4*mu(i, temps)/(r**3), 3*k(i+1, temps), -4*mu(i+1, temps)/(r**3)]\n",
    "\n",
    "        ajout_visco = - thorr[temps-1][i]*(1-dttho) + thorr[temps-1][i-1]*(1-dttho_prec) + 2*mu(i, temps)*err[temps-1][i] - 2*mu(i, temps)*err[temps-1][i-1]\n",
    "\n",
    "        ajout_tot[-1].append(ajout_visco)\n",
    "\n",
    "\n",
    "        if isnan(ajout_visco):\n",
    "            print(thorr[temps-1][i-1])\n",
    "            print(thorr[temps-1][i-2])\n",
    "            print(err[temps-1][i-1])\n",
    "            print(visco_prec)\n",
    "            raise ValueError\n",
    "        visco_prec = ajout_visco\n",
    "\n",
    "        Rmat[2*(i-1)+2] = -3*k(i, temps)*alpha(i, temps)*DT[i]+3*k(i+1, temps)*alpha(i+1, temps)*DT[i-1] + ajout_visco\n",
    "\n",
    "    \n",
    "    sol = linalg.solve(M, Rmat)\n",
    "    # if nan in sol :\n",
    "    #     print(M)\n",
    "    #     print(Rmat)\n",
    "    #     raise ValueError\n",
    "    sol_t.append(sol)\n",
    "\n",
    "    ajout_tot.append([])\n",
    "\n",
    "    thorr[temps] = [-4*mu(i, temps)*sol[2*i+1]/((dr*i)**3) for i in range(1,N)]\n",
    "    err[temps] = [-2*sol[2*i+1]/((dr*i)**3) for i in range(1,N)]"
   ]
  },
  {
   "cell_type": "code",
   "execution_count": 11,
   "metadata": {},
   "outputs": [],
   "source": [
    "def Tcontraintesi(sol_ab,i,r, temps) -> ndarray:\n",
    "    '''Calcule de la contrainte a partir des solution\n",
    "    Attention i>0'''\n",
    "\n",
    "    sigmai=zeros((3,3))\n",
    "    ai,bi=sol_ab[2*i],sol_ab[2*i+1]\n",
    "    sigmai[0][0]= -4*mu(i, temps)*bi/(r**3) + 3*k(i, temps)*ai - 3*k(i, temps)*alpha(i, temps)*DT[i]\n",
    "    sigmai[1][1]=  2*mu(i, temps)*bi/(r**3) + 3*k(i, temps)*ai - 3*k(i, temps)*alpha(i, temps)*DT[i]\n",
    "    sigmai[2][2]=  2*mu(i, temps)*bi/(r**3) + 3*k(i, temps)*ai - 3*k(i, temps)*alpha(i, temps)*DT[i]\n",
    "\n",
    "    return sigmai\n",
    "\n",
    "\n",
    "\n",
    "def Tdeplacementsi(sol_ab,i,r) -> ndarray:\n",
    "    '''Calcule du déplacement à partir des solution\n",
    "    Attention i>0'''\n",
    "\n",
    "    epsilonai=zeros((3,3))\n",
    "    ai,bi=sol_ab[2*i],sol_ab[2*i+1]\n",
    "    epsilonai[0][0]=ai - 2 * bi / (r**3)\n",
    "    epsilonai[1][1]=ai + bi/(r**3)\n",
    "    epsilonai[2][2]=ai + bi/(r**3)\n",
    "\n",
    "    return epsilonai\n",
    "\n",
    "\n",
    "def deplacement(sol_ab, i, r):\n",
    "    ai,bi=sol_ab[2*i],sol_ab[2*i+1]\n",
    "    return ai * r + bi/(r**2)"
   ]
  },
  {
   "cell_type": "code",
   "execution_count": 12,
   "metadata": {
    "tags": []
   },
   "outputs": [],
   "source": [
    "X = linspace(0, R, N)\n",
    "Y1, Y2, Y3, Y4 = [], [], [], []\n",
    "\n",
    "\n",
    "totalContrainte = []\n",
    "\n",
    "for temps in range(0, Nt):\n",
    "    #M = M_t[temps]\n",
    "    sol = sol_t[temps]\n",
    "    c = []\n",
    "    for i in range(N):\n",
    "        r = i*dr\n",
    "        contrainte = Tcontraintesi(sol, i, r, temps)\n",
    "        \n",
    "        c.append(contrainte)\n",
    "\n",
    "    totalContrainte.append(c)\n",
    "\n",
    "\n",
    "#px.line(x = X, y = [Y1, Y2, Y3])\n",
    "#px.line(x = X, y = Y4)"
   ]
  },
  {
   "cell_type": "code",
   "execution_count": 13,
   "metadata": {},
   "outputs": [
    {
     "output_type": "display_data",
     "data": {
      "application/vnd.plotly.v1+json": {
       "config": {
        "plotlyServerURL": "https://plot.ly"
       },
       "data": [
        {
         "hovertemplate": "variable=wide_variable_0<br>x=%{x}<br>value=%{y}<extra></extra>",
         "legendgroup": "wide_variable_0",
         "line": {
          "color": "#636efa",
          "dash": "solid"
         },
         "mode": "lines",
         "name": "wide_variable_0",
         "orientation": "v",
         "showlegend": true,
         "type": "scatter",
         "x": [
          0,
          0.0003448275862068966,
          0.0006896551724137932,
          0.0010344827586206897,
          0.0013793103448275863,
          0.001724137931034483,
          0.0020689655172413794,
          0.002413793103448276,
          0.0027586206896551726,
          0.0031034482758620693,
          0.003448275862068966,
          0.0037931034482758625,
          0.004137931034482759,
          0.004482758620689656,
          0.004827586206896552,
          0.005172413793103449,
          0.005517241379310345,
          0.0058620689655172415,
          0.0062068965517241385,
          0.006551724137931035,
          0.006896551724137932,
          0.007241379310344828,
          0.007586206896551725,
          0.007931034482758621,
          0.008275862068965517,
          0.008620689655172414,
          0.008965517241379312,
          0.009310344827586208,
          0.009655172413793104,
          0.01
         ],
         "xaxis": "x",
         "y": [
          0,
          -381.8139448729977,
          -1527.2557794919908,
          -3436.3255038569787,
          -6109.023117967963,
          -9545.348621824944,
          -13745.302015427915,
          -18708.883298776887,
          -24436.092471871852,
          -30926.929534712817,
          -38181.394487299774,
          -46199.48732963273,
          -54981.20806171166,
          -64526.55668353661,
          -74835.53319510755,
          -85908.13759642448,
          -97744.36988748741,
          -110344.23006829631,
          -123707.71813885127,
          -137834.83409915215,
          -152725.5779491991,
          -168379.94968899197,
          -184797.9493185309,
          -201979.57683781578,
          -219924.83224684664,
          -238633.71554562348,
          -258106.22673414645,
          -278342.3658124153,
          -299342.1327804302,
          -321105.527638191
         ],
         "yaxis": "y"
        },
        {
         "hovertemplate": "variable=wide_variable_1<br>x=%{x}<br>value=%{y}<extra></extra>",
         "legendgroup": "wide_variable_1",
         "line": {
          "color": "#EF553B",
          "dash": "solid"
         },
         "mode": "lines",
         "name": "wide_variable_1",
         "orientation": "v",
         "showlegend": true,
         "type": "scatter",
         "x": [
          0,
          0.0003448275862068966,
          0.0006896551724137932,
          0.0010344827586206897,
          0.0013793103448275863,
          0.001724137931034483,
          0.0020689655172413794,
          0.002413793103448276,
          0.0027586206896551726,
          0.0031034482758620693,
          0.003448275862068966,
          0.0037931034482758625,
          0.004137931034482759,
          0.004482758620689656,
          0.004827586206896552,
          0.005172413793103449,
          0.005517241379310345,
          0.0058620689655172415,
          0.0062068965517241385,
          0.006551724137931035,
          0.006896551724137932,
          0.007241379310344828,
          0.007586206896551725,
          0.007931034482758621,
          0.008275862068965517,
          0.008620689655172414,
          0.008965517241379312,
          0.009310344827586208,
          0.009655172413793104,
          0.01
         ],
         "xaxis": "x",
         "y": [
          0,
          -381.8139448729977,
          -1527.2557794919908,
          -3436.3255038569787,
          -6109.023117967963,
          -9545.348621824944,
          -13745.302015427915,
          -18708.883298776887,
          -24436.092471871852,
          -30926.929534712817,
          -38181.394487299774,
          -46199.48732963273,
          -54981.20806171166,
          -64526.55668353661,
          -74835.53319510755,
          -85908.13759642448,
          -97744.36988748741,
          -110344.23006829631,
          -123707.71813885127,
          -137834.83409915215,
          -152725.5779491991,
          -168379.94968899197,
          -184797.9493185309,
          -201979.57683781578,
          -219924.83224684664,
          -238633.71554562348,
          -258106.22673414645,
          -278342.3658124153,
          -299342.1327804302,
          -321105.527638191
         ],
         "yaxis": "y"
        },
        {
         "hovertemplate": "variable=wide_variable_2<br>x=%{x}<br>value=%{y}<extra></extra>",
         "legendgroup": "wide_variable_2",
         "line": {
          "color": "#00cc96",
          "dash": "solid"
         },
         "mode": "lines",
         "name": "wide_variable_2",
         "orientation": "v",
         "showlegend": true,
         "type": "scatter",
         "x": [
          0,
          0.0003448275862068966,
          0.0006896551724137932,
          0.0010344827586206897,
          0.0013793103448275863,
          0.001724137931034483,
          0.0020689655172413794,
          0.002413793103448276,
          0.0027586206896551726,
          0.0031034482758620693,
          0.003448275862068966,
          0.0037931034482758625,
          0.004137931034482759,
          0.004482758620689656,
          0.004827586206896552,
          0.005172413793103449,
          0.005517241379310345,
          0.0058620689655172415,
          0.0062068965517241385,
          0.006551724137931035,
          0.006896551724137932,
          0.007241379310344828,
          0.007586206896551725,
          0.007931034482758621,
          0.008275862068965517,
          0.008620689655172414,
          0.008965517241379312,
          0.009310344827586208,
          0.009655172413793104,
          0.01
         ],
         "xaxis": "x",
         "y": [
          0,
          -381.8139448729977,
          -1527.2557794919908,
          -3436.3255038569787,
          -6109.023117967963,
          -9545.348621824944,
          -13745.302015427915,
          -18708.883298776887,
          -24436.092471871852,
          -30926.929534712817,
          -38181.394487299774,
          -46199.48732963273,
          -54981.20806171166,
          -64526.55668353661,
          -74835.53319510755,
          -85908.13759642448,
          -97744.36988748741,
          -110344.23006829631,
          -123707.71813885127,
          -137834.83409915215,
          -152725.5779491991,
          -168379.94968899197,
          -184797.9493185309,
          -201979.57683781578,
          -219924.83224684664,
          -238633.71554562348,
          -258106.22673414645,
          -278342.3658124153,
          -299342.1327804302,
          -321105.527638191
         ],
         "yaxis": "y"
        }
       ],
       "layout": {
        "legend": {
         "title": {
          "text": "variable"
         },
         "tracegroupgap": 0
        },
        "margin": {
         "t": 60
        },
        "template": {
         "data": {
          "bar": [
           {
            "error_x": {
             "color": "#2a3f5f"
            },
            "error_y": {
             "color": "#2a3f5f"
            },
            "marker": {
             "line": {
              "color": "#E5ECF6",
              "width": 0.5
             }
            },
            "type": "bar"
           }
          ],
          "barpolar": [
           {
            "marker": {
             "line": {
              "color": "#E5ECF6",
              "width": 0.5
             }
            },
            "type": "barpolar"
           }
          ],
          "carpet": [
           {
            "aaxis": {
             "endlinecolor": "#2a3f5f",
             "gridcolor": "white",
             "linecolor": "white",
             "minorgridcolor": "white",
             "startlinecolor": "#2a3f5f"
            },
            "baxis": {
             "endlinecolor": "#2a3f5f",
             "gridcolor": "white",
             "linecolor": "white",
             "minorgridcolor": "white",
             "startlinecolor": "#2a3f5f"
            },
            "type": "carpet"
           }
          ],
          "choropleth": [
           {
            "colorbar": {
             "outlinewidth": 0,
             "ticks": ""
            },
            "type": "choropleth"
           }
          ],
          "contour": [
           {
            "colorbar": {
             "outlinewidth": 0,
             "ticks": ""
            },
            "colorscale": [
             [
              0,
              "#0d0887"
             ],
             [
              0.1111111111111111,
              "#46039f"
             ],
             [
              0.2222222222222222,
              "#7201a8"
             ],
             [
              0.3333333333333333,
              "#9c179e"
             ],
             [
              0.4444444444444444,
              "#bd3786"
             ],
             [
              0.5555555555555556,
              "#d8576b"
             ],
             [
              0.6666666666666666,
              "#ed7953"
             ],
             [
              0.7777777777777778,
              "#fb9f3a"
             ],
             [
              0.8888888888888888,
              "#fdca26"
             ],
             [
              1,
              "#f0f921"
             ]
            ],
            "type": "contour"
           }
          ],
          "contourcarpet": [
           {
            "colorbar": {
             "outlinewidth": 0,
             "ticks": ""
            },
            "type": "contourcarpet"
           }
          ],
          "heatmap": [
           {
            "colorbar": {
             "outlinewidth": 0,
             "ticks": ""
            },
            "colorscale": [
             [
              0,
              "#0d0887"
             ],
             [
              0.1111111111111111,
              "#46039f"
             ],
             [
              0.2222222222222222,
              "#7201a8"
             ],
             [
              0.3333333333333333,
              "#9c179e"
             ],
             [
              0.4444444444444444,
              "#bd3786"
             ],
             [
              0.5555555555555556,
              "#d8576b"
             ],
             [
              0.6666666666666666,
              "#ed7953"
             ],
             [
              0.7777777777777778,
              "#fb9f3a"
             ],
             [
              0.8888888888888888,
              "#fdca26"
             ],
             [
              1,
              "#f0f921"
             ]
            ],
            "type": "heatmap"
           }
          ],
          "heatmapgl": [
           {
            "colorbar": {
             "outlinewidth": 0,
             "ticks": ""
            },
            "colorscale": [
             [
              0,
              "#0d0887"
             ],
             [
              0.1111111111111111,
              "#46039f"
             ],
             [
              0.2222222222222222,
              "#7201a8"
             ],
             [
              0.3333333333333333,
              "#9c179e"
             ],
             [
              0.4444444444444444,
              "#bd3786"
             ],
             [
              0.5555555555555556,
              "#d8576b"
             ],
             [
              0.6666666666666666,
              "#ed7953"
             ],
             [
              0.7777777777777778,
              "#fb9f3a"
             ],
             [
              0.8888888888888888,
              "#fdca26"
             ],
             [
              1,
              "#f0f921"
             ]
            ],
            "type": "heatmapgl"
           }
          ],
          "histogram": [
           {
            "marker": {
             "colorbar": {
              "outlinewidth": 0,
              "ticks": ""
             }
            },
            "type": "histogram"
           }
          ],
          "histogram2d": [
           {
            "colorbar": {
             "outlinewidth": 0,
             "ticks": ""
            },
            "colorscale": [
             [
              0,
              "#0d0887"
             ],
             [
              0.1111111111111111,
              "#46039f"
             ],
             [
              0.2222222222222222,
              "#7201a8"
             ],
             [
              0.3333333333333333,
              "#9c179e"
             ],
             [
              0.4444444444444444,
              "#bd3786"
             ],
             [
              0.5555555555555556,
              "#d8576b"
             ],
             [
              0.6666666666666666,
              "#ed7953"
             ],
             [
              0.7777777777777778,
              "#fb9f3a"
             ],
             [
              0.8888888888888888,
              "#fdca26"
             ],
             [
              1,
              "#f0f921"
             ]
            ],
            "type": "histogram2d"
           }
          ],
          "histogram2dcontour": [
           {
            "colorbar": {
             "outlinewidth": 0,
             "ticks": ""
            },
            "colorscale": [
             [
              0,
              "#0d0887"
             ],
             [
              0.1111111111111111,
              "#46039f"
             ],
             [
              0.2222222222222222,
              "#7201a8"
             ],
             [
              0.3333333333333333,
              "#9c179e"
             ],
             [
              0.4444444444444444,
              "#bd3786"
             ],
             [
              0.5555555555555556,
              "#d8576b"
             ],
             [
              0.6666666666666666,
              "#ed7953"
             ],
             [
              0.7777777777777778,
              "#fb9f3a"
             ],
             [
              0.8888888888888888,
              "#fdca26"
             ],
             [
              1,
              "#f0f921"
             ]
            ],
            "type": "histogram2dcontour"
           }
          ],
          "mesh3d": [
           {
            "colorbar": {
             "outlinewidth": 0,
             "ticks": ""
            },
            "type": "mesh3d"
           }
          ],
          "parcoords": [
           {
            "line": {
             "colorbar": {
              "outlinewidth": 0,
              "ticks": ""
             }
            },
            "type": "parcoords"
           }
          ],
          "pie": [
           {
            "automargin": true,
            "type": "pie"
           }
          ],
          "scatter": [
           {
            "marker": {
             "colorbar": {
              "outlinewidth": 0,
              "ticks": ""
             }
            },
            "type": "scatter"
           }
          ],
          "scatter3d": [
           {
            "line": {
             "colorbar": {
              "outlinewidth": 0,
              "ticks": ""
             }
            },
            "marker": {
             "colorbar": {
              "outlinewidth": 0,
              "ticks": ""
             }
            },
            "type": "scatter3d"
           }
          ],
          "scattercarpet": [
           {
            "marker": {
             "colorbar": {
              "outlinewidth": 0,
              "ticks": ""
             }
            },
            "type": "scattercarpet"
           }
          ],
          "scattergeo": [
           {
            "marker": {
             "colorbar": {
              "outlinewidth": 0,
              "ticks": ""
             }
            },
            "type": "scattergeo"
           }
          ],
          "scattergl": [
           {
            "marker": {
             "colorbar": {
              "outlinewidth": 0,
              "ticks": ""
             }
            },
            "type": "scattergl"
           }
          ],
          "scattermapbox": [
           {
            "marker": {
             "colorbar": {
              "outlinewidth": 0,
              "ticks": ""
             }
            },
            "type": "scattermapbox"
           }
          ],
          "scatterpolar": [
           {
            "marker": {
             "colorbar": {
              "outlinewidth": 0,
              "ticks": ""
             }
            },
            "type": "scatterpolar"
           }
          ],
          "scatterpolargl": [
           {
            "marker": {
             "colorbar": {
              "outlinewidth": 0,
              "ticks": ""
             }
            },
            "type": "scatterpolargl"
           }
          ],
          "scatterternary": [
           {
            "marker": {
             "colorbar": {
              "outlinewidth": 0,
              "ticks": ""
             }
            },
            "type": "scatterternary"
           }
          ],
          "surface": [
           {
            "colorbar": {
             "outlinewidth": 0,
             "ticks": ""
            },
            "colorscale": [
             [
              0,
              "#0d0887"
             ],
             [
              0.1111111111111111,
              "#46039f"
             ],
             [
              0.2222222222222222,
              "#7201a8"
             ],
             [
              0.3333333333333333,
              "#9c179e"
             ],
             [
              0.4444444444444444,
              "#bd3786"
             ],
             [
              0.5555555555555556,
              "#d8576b"
             ],
             [
              0.6666666666666666,
              "#ed7953"
             ],
             [
              0.7777777777777778,
              "#fb9f3a"
             ],
             [
              0.8888888888888888,
              "#fdca26"
             ],
             [
              1,
              "#f0f921"
             ]
            ],
            "type": "surface"
           }
          ],
          "table": [
           {
            "cells": {
             "fill": {
              "color": "#EBF0F8"
             },
             "line": {
              "color": "white"
             }
            },
            "header": {
             "fill": {
              "color": "#C8D4E3"
             },
             "line": {
              "color": "white"
             }
            },
            "type": "table"
           }
          ]
         },
         "layout": {
          "annotationdefaults": {
           "arrowcolor": "#2a3f5f",
           "arrowhead": 0,
           "arrowwidth": 1
          },
          "autotypenumbers": "strict",
          "coloraxis": {
           "colorbar": {
            "outlinewidth": 0,
            "ticks": ""
           }
          },
          "colorscale": {
           "diverging": [
            [
             0,
             "#8e0152"
            ],
            [
             0.1,
             "#c51b7d"
            ],
            [
             0.2,
             "#de77ae"
            ],
            [
             0.3,
             "#f1b6da"
            ],
            [
             0.4,
             "#fde0ef"
            ],
            [
             0.5,
             "#f7f7f7"
            ],
            [
             0.6,
             "#e6f5d0"
            ],
            [
             0.7,
             "#b8e186"
            ],
            [
             0.8,
             "#7fbc41"
            ],
            [
             0.9,
             "#4d9221"
            ],
            [
             1,
             "#276419"
            ]
           ],
           "sequential": [
            [
             0,
             "#0d0887"
            ],
            [
             0.1111111111111111,
             "#46039f"
            ],
            [
             0.2222222222222222,
             "#7201a8"
            ],
            [
             0.3333333333333333,
             "#9c179e"
            ],
            [
             0.4444444444444444,
             "#bd3786"
            ],
            [
             0.5555555555555556,
             "#d8576b"
            ],
            [
             0.6666666666666666,
             "#ed7953"
            ],
            [
             0.7777777777777778,
             "#fb9f3a"
            ],
            [
             0.8888888888888888,
             "#fdca26"
            ],
            [
             1,
             "#f0f921"
            ]
           ],
           "sequentialminus": [
            [
             0,
             "#0d0887"
            ],
            [
             0.1111111111111111,
             "#46039f"
            ],
            [
             0.2222222222222222,
             "#7201a8"
            ],
            [
             0.3333333333333333,
             "#9c179e"
            ],
            [
             0.4444444444444444,
             "#bd3786"
            ],
            [
             0.5555555555555556,
             "#d8576b"
            ],
            [
             0.6666666666666666,
             "#ed7953"
            ],
            [
             0.7777777777777778,
             "#fb9f3a"
            ],
            [
             0.8888888888888888,
             "#fdca26"
            ],
            [
             1,
             "#f0f921"
            ]
           ]
          },
          "colorway": [
           "#636efa",
           "#EF553B",
           "#00cc96",
           "#ab63fa",
           "#FFA15A",
           "#19d3f3",
           "#FF6692",
           "#B6E880",
           "#FF97FF",
           "#FECB52"
          ],
          "font": {
           "color": "#2a3f5f"
          },
          "geo": {
           "bgcolor": "white",
           "lakecolor": "white",
           "landcolor": "#E5ECF6",
           "showlakes": true,
           "showland": true,
           "subunitcolor": "white"
          },
          "hoverlabel": {
           "align": "left"
          },
          "hovermode": "closest",
          "mapbox": {
           "style": "light"
          },
          "paper_bgcolor": "white",
          "plot_bgcolor": "#E5ECF6",
          "polar": {
           "angularaxis": {
            "gridcolor": "white",
            "linecolor": "white",
            "ticks": ""
           },
           "bgcolor": "#E5ECF6",
           "radialaxis": {
            "gridcolor": "white",
            "linecolor": "white",
            "ticks": ""
           }
          },
          "scene": {
           "xaxis": {
            "backgroundcolor": "#E5ECF6",
            "gridcolor": "white",
            "gridwidth": 2,
            "linecolor": "white",
            "showbackground": true,
            "ticks": "",
            "zerolinecolor": "white"
           },
           "yaxis": {
            "backgroundcolor": "#E5ECF6",
            "gridcolor": "white",
            "gridwidth": 2,
            "linecolor": "white",
            "showbackground": true,
            "ticks": "",
            "zerolinecolor": "white"
           },
           "zaxis": {
            "backgroundcolor": "#E5ECF6",
            "gridcolor": "white",
            "gridwidth": 2,
            "linecolor": "white",
            "showbackground": true,
            "ticks": "",
            "zerolinecolor": "white"
           }
          },
          "shapedefaults": {
           "line": {
            "color": "#2a3f5f"
           }
          },
          "ternary": {
           "aaxis": {
            "gridcolor": "white",
            "linecolor": "white",
            "ticks": ""
           },
           "baxis": {
            "gridcolor": "white",
            "linecolor": "white",
            "ticks": ""
           },
           "bgcolor": "#E5ECF6",
           "caxis": {
            "gridcolor": "white",
            "linecolor": "white",
            "ticks": ""
           }
          },
          "title": {
           "x": 0.05
          },
          "xaxis": {
           "automargin": true,
           "gridcolor": "white",
           "linecolor": "white",
           "ticks": "",
           "title": {
            "standoff": 15
           },
           "zerolinecolor": "white",
           "zerolinewidth": 2
          },
          "yaxis": {
           "automargin": true,
           "gridcolor": "white",
           "linecolor": "white",
           "ticks": "",
           "title": {
            "standoff": 15
           },
           "zerolinecolor": "white",
           "zerolinewidth": 2
          }
         }
        },
        "xaxis": {
         "anchor": "y",
         "domain": [
          0,
          1
         ],
         "title": {
          "text": "x"
         }
        },
        "yaxis": {
         "anchor": "x",
         "domain": [
          0,
          1
         ],
         "title": {
          "text": "value"
         }
        }
       }
      }
     },
     "metadata": {}
    }
   ],
   "source": [
    "contrainte = totalContrainte[0]\n",
    "\n",
    "Y1 = [contrainte[i][0][0] for i in range(len(contrainte))]\n",
    "Y2 = [contrainte[i][1][1] for i in range(len(contrainte))]\n",
    "Y3 = [contrainte[i][2][2] for i in range(len(contrainte))]\n",
    "\n",
    "\n",
    "px.line(x = X, y = [Y1, Y2, Y3])"
   ]
  },
  {
   "cell_type": "code",
   "execution_count": null,
   "metadata": {},
   "outputs": [],
   "source": []
  }
 ]
}